{
 "cells": [
  {
   "cell_type": "code",
   "execution_count": 1,
   "metadata": {},
   "outputs": [
    {
     "name": "stderr",
     "output_type": "stream",
     "text": [
      "2024-10-02 15:39:56.546 Python[84524:7720919] WARNING: Secure coding is not enabled for restorable state! Enable secure coding by implementing NSApplicationDelegate.applicationSupportsSecureRestorableState: and returning YES.\n"
     ]
    },
    {
     "ename": "AttributeError",
     "evalue": "'NoneType' object has no attribute 'after'",
     "output_type": "error",
     "traceback": [
      "\u001b[0;31m---------------------------------------------------------------------------\u001b[0m",
      "\u001b[0;31mAttributeError\u001b[0m                            Traceback (most recent call last)",
      "Cell \u001b[0;32mIn[1], line 20\u001b[0m\n\u001b[1;32m     17\u001b[0m tree_widget \u001b[38;5;241m=\u001b[39m tree\u001b[38;5;241m.\u001b[39mdraw()\n\u001b[1;32m     19\u001b[0m \u001b[38;5;66;03m# Close the window after 1000 milliseconds (1 second)\u001b[39;00m\n\u001b[0;32m---> 20\u001b[0m \u001b[43mclose_window_after_delay\u001b[49m\u001b[43m(\u001b[49m\u001b[43mtree_widget\u001b[49m\u001b[43m,\u001b[49m\u001b[43m \u001b[49m\u001b[43mdelay\u001b[49m\u001b[38;5;241;43m=\u001b[39;49m\u001b[38;5;241;43m1000\u001b[39;49m\u001b[43m)\u001b[49m\n",
      "Cell \u001b[0;32mIn[1], line 14\u001b[0m, in \u001b[0;36mclose_window_after_delay\u001b[0;34m(tree_widget, delay)\u001b[0m\n\u001b[1;32m     12\u001b[0m \u001b[38;5;28;01mdef\u001b[39;00m \u001b[38;5;21mclose_window\u001b[39m():\n\u001b[1;32m     13\u001b[0m     tree_widget\u001b[38;5;241m.\u001b[39mdestroy()\n\u001b[0;32m---> 14\u001b[0m \u001b[43mtree_widget\u001b[49m\u001b[38;5;241;43m.\u001b[39;49m\u001b[43mafter\u001b[49m(delay, close_window)\n",
      "\u001b[0;31mAttributeError\u001b[0m: 'NoneType' object has no attribute 'after'"
     ]
    },
    {
     "ename": "",
     "evalue": "",
     "output_type": "error",
     "traceback": [
      "\u001b[1;31mThe Kernel crashed while executing code in the current cell or a previous cell. \n",
      "\u001b[1;31mPlease review the code in the cell(s) to identify a possible cause of the failure. \n",
      "\u001b[1;31mClick <a href='https://aka.ms/vscodeJupyterKernelCrash'>here</a> for more info. \n",
      "\u001b[1;31mView Jupyter <a href='command:jupyter.viewOutput'>log</a> for further details."
     ]
    }
   ],
   "source": [
    "import nltk\n",
    "from nltk import Tree\n",
    "\n",
    "# Define your syntactic structure\n",
    "tree = Tree('NP', \n",
    "            [Tree('NP', ['LaTeX']),\n",
    "             Tree('VP', [Tree('V', ['is']),\n",
    "                         Tree('NP', ['fun'])])])\n",
    "\n",
    "# Function to automatically close the tree display window\n",
    "def close_window_after_delay(tree_widget, delay=1000):\n",
    "    def close_window():\n",
    "        tree_widget.destroy()\n",
    "    tree_widget.after(delay, close_window)\n",
    "\n",
    "# Draw the tree\n",
    "tree_widget = tree.draw()\n",
    "\n",
    "# Close the window after 1000 milliseconds (1 second)\n",
    "close_window_after_delay(tree_widget, delay=1000)\n"
   ]
  }
 ],
 "metadata": {
  "language_info": {
   "name": "python"
  }
 },
 "nbformat": 4,
 "nbformat_minor": 2
}
